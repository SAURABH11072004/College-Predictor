{
 "cells": [
  {
   "cell_type": "code",
   "execution_count": 3,
   "metadata": {},
   "outputs": [
    {
     "data": {
      "text/html": [
       "<div>\n",
       "<style scoped>\n",
       "    .dataframe tbody tr th:only-of-type {\n",
       "        vertical-align: middle;\n",
       "    }\n",
       "\n",
       "    .dataframe tbody tr th {\n",
       "        vertical-align: top;\n",
       "    }\n",
       "\n",
       "    .dataframe thead th {\n",
       "        text-align: right;\n",
       "    }\n",
       "</style>\n",
       "<table border=\"1\" class=\"dataframe\">\n",
       "  <thead>\n",
       "    <tr style=\"text-align: right;\">\n",
       "      <th></th>\n",
       "      <th>College Name</th>\n",
       "      <th>College Code</th>\n",
       "      <th>Branch Name</th>\n",
       "      <th>Branch Code</th>\n",
       "      <th>Category</th>\n",
       "      <th>Percentile</th>\n",
       "    </tr>\n",
       "  </thead>\n",
       "  <tbody>\n",
       "    <tr>\n",
       "      <th>0</th>\n",
       "      <td>Shri Sant Gajanan Maharaj College of Engineeri...</td>\n",
       "      <td>1105</td>\n",
       "      <td>Chemical Engineering</td>\n",
       "      <td>110519110</td>\n",
       "      <td>GOPENH</td>\n",
       "      <td>36.883727</td>\n",
       "    </tr>\n",
       "    <tr>\n",
       "      <th>1</th>\n",
       "      <td>Shri Sant Gajanan Maharaj College of Engineeri...</td>\n",
       "      <td>1105</td>\n",
       "      <td>Chemical Engineering</td>\n",
       "      <td>110519110</td>\n",
       "      <td>GSCH</td>\n",
       "      <td>24.319681</td>\n",
       "    </tr>\n",
       "    <tr>\n",
       "      <th>2</th>\n",
       "      <td>Shri Sant Gajanan Maharaj College of Engineeri...</td>\n",
       "      <td>1105</td>\n",
       "      <td>Chemical Engineering</td>\n",
       "      <td>110519110</td>\n",
       "      <td>GNT2H</td>\n",
       "      <td>28.160582</td>\n",
       "    </tr>\n",
       "    <tr>\n",
       "      <th>3</th>\n",
       "      <td>Shri Sant Gajanan Maharaj College of Engineeri...</td>\n",
       "      <td>1105</td>\n",
       "      <td>Chemical Engineering</td>\n",
       "      <td>110519110</td>\n",
       "      <td>GOBCH</td>\n",
       "      <td>20.306135</td>\n",
       "    </tr>\n",
       "    <tr>\n",
       "      <th>4</th>\n",
       "      <td>Shri Sant Gajanan Maharaj College of Engineeri...</td>\n",
       "      <td>1105</td>\n",
       "      <td>Chemical Engineering</td>\n",
       "      <td>110519110</td>\n",
       "      <td>LOPENH</td>\n",
       "      <td>18.303719</td>\n",
       "    </tr>\n",
       "  </tbody>\n",
       "</table>\n",
       "</div>"
      ],
      "text/plain": [
       "                                        College Name  College Code  \\\n",
       "0  Shri Sant Gajanan Maharaj College of Engineeri...          1105   \n",
       "1  Shri Sant Gajanan Maharaj College of Engineeri...          1105   \n",
       "2  Shri Sant Gajanan Maharaj College of Engineeri...          1105   \n",
       "3  Shri Sant Gajanan Maharaj College of Engineeri...          1105   \n",
       "4  Shri Sant Gajanan Maharaj College of Engineeri...          1105   \n",
       "\n",
       "            Branch Name  Branch Code Category  Percentile  \n",
       "0  Chemical Engineering    110519110   GOPENH   36.883727  \n",
       "1  Chemical Engineering    110519110     GSCH   24.319681  \n",
       "2  Chemical Engineering    110519110    GNT2H   28.160582  \n",
       "3  Chemical Engineering    110519110    GOBCH   20.306135  \n",
       "4  Chemical Engineering    110519110   LOPENH   18.303719  "
      ]
     },
     "execution_count": 3,
     "metadata": {},
     "output_type": "execute_result"
    }
   ],
   "source": [
    "import pandas as pd\n",
    "df=pd.read_csv(\"/home/pccoe/Downloads/testt.csv\")\n",
    "df.head()"
   ]
  },
  {
   "cell_type": "code",
   "execution_count": 12,
   "metadata": {},
   "outputs": [
    {
     "name": "stdout",
     "output_type": "stream",
     "text": [
      "🔹 Min-Max Normalization Result:\n",
      "    Percentile  Percentile_Scaled\n",
      "0    36.883727           0.365714\n",
      "1    24.319681           0.225884\n",
      "2    28.160582           0.268630\n",
      "3    20.306135           0.181215\n",
      "4    18.303719           0.158929\n",
      "5    10.387175           0.070823\n",
      "6    48.685155           0.497057\n",
      "7    35.696374           0.352499\n",
      "8    39.422797           0.393972\n",
      "9    26.389008           0.248914\n",
      "10   56.765059           0.586981\n",
      "11   14.331675           0.114723\n",
      "12   90.581834           0.963341\n",
      "13   84.194928           0.892259\n",
      "14   64.886120           0.677364\n"
     ]
    }
   ],
   "source": [
    "import pandas as pd\n",
    "from sklearn.preprocessing import MinMaxScaler\n",
    "\n",
    "# Load data\n",
    "df = pd.read_csv(\"/home/pccoe/Downloads/testt.csv\")\n",
    "\n",
    "# Ensure correct column format\n",
    "df.columns = df.columns.str.strip()\n",
    "df['Percentile'] = pd.to_numeric(df['Percentile'], errors='coerce')\n",
    "df_clean = df.dropna(subset=['Percentile'])\n",
    "\n",
    "# Apply Min-Max Scaling\n",
    "scaler = MinMaxScaler()\n",
    "df_minmax = df_clean.copy()\n",
    "df_minmax['Percentile_Scaled'] = scaler.fit_transform(df_clean[['Percentile']])\n",
    "\n",
    "# Show result\n",
    "print(\"🔹 Min-Max Normalization Result:\")\n",
    "print(df_minmax[['Percentile', 'Percentile_Scaled']].head(15))\n"
   ]
  },
  {
   "cell_type": "code",
   "execution_count": 10,
   "metadata": {},
   "outputs": [
    {
     "name": "stdout",
     "output_type": "stream",
     "text": [
      "🔹 Z-score Standardization Result:\n",
      "    Percentile  Percentile_Standardized\n",
      "0    36.883727                -0.872198\n",
      "1    24.319681                -1.315869\n",
      "2    28.160582                -1.180236\n",
      "3    20.306135                -1.457598\n",
      "4    18.303719                -1.528309\n",
      "5    10.387175                -1.807864\n",
      "6    48.685155                -0.455457\n",
      "7    35.696374                -0.914127\n",
      "8    39.422797                -0.782536\n",
      "9    26.389008                -1.242795\n",
      "10   56.765059                -0.170133\n",
      "11   14.331675                -1.668573\n",
      "12   90.581834                 1.024030\n",
      "13   84.194928                 0.798491\n",
      "14   64.886120                 0.116644\n"
     ]
    }
   ],
   "source": [
    "import pandas as pd\n",
    "from sklearn.preprocessing import StandardScaler\n",
    "\n",
    "# Load and clean data\n",
    "df = pd.read_csv(\"/home/pccoe/Downloads/testt.csv\")\n",
    "df.columns = df.columns.str.strip()\n",
    "df['Percentile'] = pd.to_numeric(df['Percentile'], errors='coerce')\n",
    "df_clean = df.dropna(subset=['Percentile'])\n",
    "\n",
    "# Apply Standard Scaler\n",
    "scaler = StandardScaler()\n",
    "df_standard = df_clean.copy()\n",
    "df_standard['Percentile_Standardized'] = scaler.fit_transform(df_clean[['Percentile']])\n",
    "\n",
    "# Show result\n",
    "print(\"🔹 Z-score Standardization Result:\")\n",
    "print(df_standard[['Percentile', 'Percentile_Standardized']].head(15))\n"
   ]
  },
  {
   "cell_type": "code",
   "execution_count": 11,
   "metadata": {},
   "outputs": [
    {
     "name": "stdout",
     "output_type": "stream",
     "text": [
      "🔹 Robust Scaling Result:\n",
      "    Percentile  Percentile_Robust\n",
      "0    36.883727          -0.793161\n",
      "1    24.319681          -1.052221\n",
      "2    28.160582          -0.973025\n",
      "3    20.306135          -1.134977\n",
      "4    18.303719          -1.176265\n",
      "5    10.387175          -1.339497\n",
      "6    48.685155          -0.549825\n",
      "7    35.696374          -0.817643\n",
      "8    39.422797          -0.740807\n",
      "9    26.389008          -1.009553\n",
      "10   56.765059          -0.383224\n",
      "11   14.331675          -1.258165\n",
      "12   90.581834           0.314050\n",
      "13   84.194928           0.182357\n",
      "14   64.886120          -0.215774\n"
     ]
    }
   ],
   "source": [
    "import pandas as pd\n",
    "from sklearn.preprocessing import RobustScaler\n",
    "\n",
    "# Load and clean data\n",
    "df = pd.read_csv(\"/home/pccoe/Downloads/testt.csv\")\n",
    "df.columns = df.columns.str.strip()\n",
    "df['Percentile'] = pd.to_numeric(df['Percentile'], errors='coerce')\n",
    "df_clean = df.dropna(subset=['Percentile'])\n",
    "\n",
    "# Apply Robust Scaler\n",
    "scaler = RobustScaler()\n",
    "df_robust = df_clean.copy()\n",
    "df_robust['Percentile_Robust'] = scaler.fit_transform(df_clean[['Percentile']])\n",
    "\n",
    "# Show result\n",
    "print(\"🔹 Robust Scaling Result:\")\n",
    "print(df_robust[['Percentile', 'Percentile_Robust']].head(15))\n"
   ]
  },
  {
   "cell_type": "code",
   "execution_count": null,
   "metadata": {},
   "outputs": [],
   "source": []
  }
 ],
 "metadata": {
  "kernelspec": {
   "display_name": "Python 3",
   "language": "python",
   "name": "python3"
  },
  "language_info": {
   "codemirror_mode": {
    "name": "ipython",
    "version": 3
   },
   "file_extension": ".py",
   "mimetype": "text/x-python",
   "name": "python",
   "nbconvert_exporter": "python",
   "pygments_lexer": "ipython3",
   "version": "3.8.10"
  }
 },
 "nbformat": 4,
 "nbformat_minor": 4
}
